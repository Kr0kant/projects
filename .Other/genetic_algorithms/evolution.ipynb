{
 "cells": [
  {
   "cell_type": "markdown",
   "metadata": {},
   "source": [
    "# Эволюционные алгоритмы\n",
    "В данном проекте рассмотрим несколько эволюционных алгоритмов. "
   ]
  },
  {
   "cell_type": "markdown",
   "metadata": {},
   "source": [
    "# Программа Ласки\n",
    "\n",
    "Интересно повторить эксперименты известного биолога Ричарда Докинза, описанные в книге \"Слепой Часовщик\". Один из таких экспериментов - программа Ласки (https://siam.press/wiki/ru/Weasel_program).\n",
    "\n",
    "Суть эксперимента:\n",
    "1. Основная цель: преобразование случайной строки в заданную путём эволюции \n",
    "2. Строка - набор символов из пробела и заглавных латинских букв\n",
    "3. Обе строки одной длины\n",
    "4. В каждой популяции 100 \"существ\"\n",
    "5. Популяция образуется из наиболее близкой к заданной строке, повторяя процесс деления клетки. Берём 100 копий удачной строки и с 5% шансом изменяем каждый символ каждой строки на случайный."
   ]
  },
  {
   "cell_type": "code",
   "execution_count": 9,
   "metadata": {},
   "outputs": [
    {
     "name": "stdout",
     "output_type": "stream",
     "text": [
      "68\n",
      "['MQGERPLIYGKAD', 'MQGENPLIYGKAD', 'MQGENTLIYGKAD', 'M GENTLIYGKAD', 'M GENTLIY KAD', 'M GUNTLIY EAD', 'G GANTU Y EAD', 'G GANTU Y EAT', 'G GANTU Y EAT', 'G GANTUTY EAT', 'G GANTUTY EAT', 'G GANTUTY EAT', 'I GANTUTY EAT', 'I GANTUTY EAT', 'I GANTUTY EAT', 'I GANT TY EAT', 'I GANT TY EAT', 'I GANT TY EAT', 'I GANT TY EAT', 'I GANT TY EAT', 'I GANT TY EAT', 'I GANT TY EAT', 'I GANT TY EAT', 'I WANT TY EAT', 'I WANT TY EAT', 'I WANT TY EAT', 'I WANT TY EAT', 'I WANT TY EAT', 'I WANT TY EAT', 'I WANT TY EAT', 'I WANT TY EAT', 'I WANT TY EAT', 'I WANT TY EAT', 'I WANT TY EAT', 'I WANT TY EAT', 'I WANT TY EAT', 'I WANT TY EAT', 'I WANT TY EAT', 'I WANT TY EAT', 'I WANT TY EAT', 'I WANT TY EAT', 'I WANT TY EAT', 'I WANT TY EAT', 'I WANT TY EAT', 'I WANT TY EAT', 'I WANT TY EAT', 'I WANT TY EAT', 'I WANT TY EAT', 'I WANT TY EAT', 'I WANT TY EAT', 'I WANT TY EAT', 'I WANT TY EAT', 'I WANT TY EAT', 'I WANT TY EAT', 'I WANT TY EAT', 'I WANT TY EAT', 'I WANT TY EAT', 'I WANT TY EAT', 'I WANT TY EAT', 'I WANT TY EAT', 'I WANT TY EAT', 'I WANT TY EAT', 'I WANT TY EAT', 'I WANT TY EAT', 'I WANT TY EAT', 'I WANT TY EAT', 'I WANT TY EAT', 'I WANT TY EAT', 'I WANT TO EAT']\n"
     ]
    }
   ],
   "source": [
    "from random import randint\n",
    "\n",
    "possible = [' ']\n",
    "\n",
    "for i in range (65, 91):\n",
    "    possible.append(chr(i))\n",
    "\n",
    "\n",
    "\n",
    "\n",
    "start = 'MQGERPLIYGKAD'\n",
    "\n",
    "\n",
    "mothers = [start]\n",
    "generation = [start]\n",
    "\n",
    "for i in range(1,100):\n",
    "    generation.append(start)\n",
    "\n",
    "wanted = 'I WANT TO EAT'\n",
    "\n",
    "generations = 0\n",
    "\n",
    "best_same = 0\n",
    "\n",
    "while best_same != len(wanted):\n",
    "    generations += 1\n",
    "\n",
    "    for i in range(1, 100):\n",
    "        for j in range(len(wanted)):\n",
    "            a = randint(1, 100)\n",
    "            b = randint(0, 26)\n",
    "            if a <= 5:\n",
    "                generation[i] = generation[i][0: j] + possible[b] + generation[i][j+1: len(generation[i]) + 1]\n",
    "\n",
    "    for i in range(1, 100):\n",
    "        same = 0\n",
    "        for j in range(len(wanted)):\n",
    "            if generation[i][j] == wanted[j]:\n",
    "                same +=1\n",
    "        \n",
    "        if same > best_same:\n",
    "            best_same = same\n",
    "            generation[0] = generation[i]\n",
    "\n",
    "    mothers.append(generation[0])\n",
    "\n",
    "    for i in range(1, 100):\n",
    "        generation[i] = generation[0]\n",
    "           \n",
    "\n",
    "        \n",
    "\n",
    "print(generations)\n",
    "print(mothers)"
   ]
  },
  {
   "cell_type": "markdown",
   "metadata": {},
   "source": [
    "# Блуждание по пространству биоморфов\n",
    "\n",
    "Повторим ещё один эксперимент Докинза ().\n",
    "\n",
    "Краткое описание:\n",
    "1. Основа - фрактальный алгоритм деления дерева на две ветви\n",
    "2. \"Гены\", отвечающие за:\n",
    "\n",
    "    0. Глубина рекурсии\n",
    "    1. Длина первой ветви  \n",
    "    2. Коэффициент пропорциональности следующих ветвей\n",
    "    3. Угол ветвления \n",
    "\n",
    "3. Две последовательные стадии: размножение и развитие\n",
    "4. Бесполое размножение\n",
    "5. Только одна мутация гена за раз, только на +- 1 условную единицу\n",
    "6. Отбор на основе человеческой прихоти: выбираем одного из потомков для последующей эволюции\n",
    "\n",
    "Программу лучше открыть отдельным файлом insects.py\n",
    "В каждом поколении программа выдаст 8 потомков, из которых нужно выбрать одного для последующей эволюции. Примеры получившихся существ:"
   ]
  }
 ],
 "metadata": {
  "interpreter": {
   "hash": "941756f75155c08d83bda77e5efa6b29fbdbf04b70335711a4d9d4c44887e26b"
  },
  "kernelspec": {
   "display_name": "Python 3.9.7 64-bit",
   "language": "python",
   "name": "python3"
  },
  "language_info": {
   "codemirror_mode": {
    "name": "ipython",
    "version": 3
   },
   "file_extension": ".py",
   "mimetype": "text/x-python",
   "name": "python",
   "nbconvert_exporter": "python",
   "pygments_lexer": "ipython3",
   "version": "3.9.7"
  },
  "orig_nbformat": 4
 },
 "nbformat": 4,
 "nbformat_minor": 2
}
