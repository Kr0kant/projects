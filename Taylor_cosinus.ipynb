{
 "cells": [
  {
   "cell_type": "markdown",
   "metadata": {},
   "source": [
    "# Вычисление значения косинуса с помощью ряда Тейлора\n",
    "\n",
    "Данная программа вычисляет косинус действительного и комплексного аргументов по данной формуле, которая представляет разложение косинуса в ряд Тейлора:\n",
    "\n",
    "$$\\cos x =  \\sum\\limits_{0}^{\\infty} = \\frac{-1^n}{(2n)!} \\cdot x^{2n}$$\n"
   ]
  },
  {
   "cell_type": "code",
   "execution_count": null,
   "metadata": {},
   "outputs": [],
   "source": [
    "import math #импорт модуля math\n",
    "\n",
    "ITERATIONS = 20 #задаём количество итераций при вычислении функции для определения необходимой точности\n",
    "\n",
    "def my_cos(real_angle):\n",
    "    \n",
    "    sum = 0\n",
    "\n",
    "    for i in range(0,ITERATIONS):\n",
    "        sum += ((-1)**i)/(math.factorial(2*i))*(real_angle**(2*i)) #формула косинуса по ряду Тейлора\n",
    "\n",
    "    return sum\n",
    "\n",
    "real_angle=float(input('Ввод действительного аргумента'))\n",
    "\n",
    "print('Библиотечный:', math.cos(real_angle) )\n",
    "print('Функция:', my_cos(real_angle) )"
   ]
  },
  {
   "cell_type": "markdown",
   "metadata": {},
   "source": [
    "Проверим, работает ли функция на комплексных числах:"
   ]
  },
  {
   "cell_type": "code",
   "execution_count": null,
   "metadata": {},
   "outputs": [],
   "source": [
    "import cmath #импортируем модуль комплексной математики\n",
    "\n",
    "cos_complex_angle=float(input('Введите значение косинуса, для которого хотите узнать комплексный угол:'))\n",
    "\n",
    "complex_angle = cmath.acos(cos_complex_angle) #получаем комплескный угол по введённому значению косинуса\n",
    "\n",
    "print('Библиотечный:', cmath.cos(complex_angle) ) #получаем значение косинуса от значения угла\n",
    "print('Функция:', my_cos(complex_angle) ) "
   ]
  },
  {
   "cell_type": "markdown",
   "metadata": {},
   "source": [
    "Построим график функции, сравним с графиком библиотечного косинуса:"
   ]
  },
  {
   "cell_type": "code",
   "execution_count": null,
   "metadata": {},
   "outputs": [],
   "source": [
    "%matplotlib inline\n",
    "from IPython.display import set_matplotlib_formats\n",
    "set_matplotlib_formats('pdf', 'svg')\n",
    "\n",
    "\n",
    "import matplotlib.pyplot as plt\n",
    "import numpy as np\n",
    "\n",
    "angles = np.arange(-17, 17, 0.01) #создаём список значений угла\n",
    "\n",
    "plt.plot(angles, [math.cos(a) for a in angles]) #строим график библиотечного косинуса\n",
    "plt.plot(angles, [my_cos(a) for a in angles]) #строим график нашего косинуса\n",
    "plt.show()"
   ]
  }
 ],
 "metadata": {
  "language_info": {
   "name": "python"
  },
  "orig_nbformat": 4
 },
 "nbformat": 4,
 "nbformat_minor": 2
}
