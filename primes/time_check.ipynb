{
 "cells": [
  {
   "cell_type": "markdown",
   "metadata": {},
   "source": [
    "Проверим ускорение функции, которая выводит простые числа до n:"
   ]
  },
  {
   "cell_type": "code",
   "execution_count": 1,
   "metadata": {},
   "outputs": [
    {
     "name": "stdout",
     "output_type": "stream",
     "text": [
      "56.73104810714722\n",
      "4.1053876876831055\n"
     ]
    }
   ],
   "source": [
    "from prime_numbers import primes\n",
    "from prime_numbers_fast import primes_fast\n",
    "import time\n",
    "\n",
    "primes_fast(10)\n",
    "\n",
    "tau = time.time()\n",
    "primes(1000000)\n",
    "print(time.time() - tau)\n",
    "\n",
    "tau = time.time()\n",
    "primes_fast(1000000)\n",
    "print(time.time() - tau)\n"
   ]
  }
 ],
 "metadata": {
  "interpreter": {
   "hash": "941756f75155c08d83bda77e5efa6b29fbdbf04b70335711a4d9d4c44887e26b"
  },
  "kernelspec": {
   "display_name": "Python 3.9.7 64-bit",
   "language": "python",
   "name": "python3"
  },
  "language_info": {
   "codemirror_mode": {
    "name": "ipython",
    "version": 3
   },
   "file_extension": ".py",
   "mimetype": "text/x-python",
   "name": "python",
   "nbconvert_exporter": "python",
   "pygments_lexer": "ipython3",
   "version": "3.9.7"
  },
  "orig_nbformat": 4
 },
 "nbformat": 4,
 "nbformat_minor": 2
}
