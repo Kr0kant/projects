{
 "cells": [
  {
   "cell_type": "markdown",
   "metadata": {},
   "source": [
    "# Кватернионы\n",
    "\n",
    "В данной программе реализован класс кватернионов, операции над ними:\n",
    "\n",
    "Получение кватерниона по заданным коэффициентам\n",
    "\n",
    "Вывод кватернионов\n",
    "\n",
    "Сравнение кватернионов\n",
    "\n",
    "Унарный минус\n",
    "\n",
    "Сложение\n",
    "\n",
    "Вычитание\n",
    "\n",
    "Скалярное умножение\n",
    "\n",
    "Норма и модуль кватерниона"
   ]
  },
  {
   "cell_type": "code",
   "execution_count": 12,
   "metadata": {},
   "outputs": [],
   "source": [
    "from numbers import Number\n",
    "\n",
    "class QuaternionDomainError(ValueError):\n",
    "    pass\n",
    "\n",
    "class QuaternionTypeError(TypeError):\n",
    "    pass\n",
    "\n",
    "\n",
    "class Quaternion:\n",
    "    def __init__(self, arg = 0):    \n",
    "        self.coefficients = [0, 0, 0, 0]\n",
    "\n",
    "        if isinstance(arg, Number):\n",
    "            self.coefficients = [arg, 0, 0, 0]\n",
    "        elif isinstance(arg, list) and len(arg)<5:\n",
    "            for i in range(4 - len(arg)):\n",
    "                arg.append(0)\n",
    "            self.coefficients = arg.copy()\n",
    "        elif isinstance(arg, Quaternion):   \n",
    "            self.coefficients = arg.coefficients.copy()\n",
    "        else:\n",
    "            raise QuaternionTypeError(\"You are trying to create quaternion from \" + repr(arg))    \n",
    "\n",
    "    def __str__(self):\n",
    "        string = ''\n",
    "        for i in range(4):\n",
    "            if (i == 0) and (self.coefficients[i] != 0):\n",
    "                string += str(self.coefficients[i])\n",
    "                     \n",
    "            \n",
    "            if (i == 1) and (self.coefficients[i] != 0):\n",
    "                if self.coefficients[i]>0:\n",
    "                    string += ' + ' + str(abs(self.coefficients[i]))+'i'\n",
    "                if self.coefficients[i]<0:\n",
    "                    string += ' - ' + str(abs(self.coefficients[i]))+'i'            \n",
    "            \n",
    "            if (i == 2) and (self.coefficients[i] != 0):\n",
    "                if self.coefficients[i]>0:\n",
    "                    string += ' + ' + str(abs(self.coefficients[i]))+'j'\n",
    "                if self.coefficients[i]<0:\n",
    "                    string += ' - ' + str(abs(self.coefficients[i]))+'j'                \n",
    "                        \n",
    "            if (i == 3) and (self.coefficients[i] != 0):\n",
    "                if self.coefficients[i]>0:\n",
    "                    string += ' + ' + str(abs(self.coefficients[i]))+'k'\n",
    "                if self.coefficients[i]<0:\n",
    "                    string += ' - ' + str(abs(self.coefficients[i]))+'k'    \n",
    "        if len(string)>1:\n",
    "            if string[1] == '+':\n",
    "                string = string[3:len(string)]\n",
    "\n",
    "        if string == '':\n",
    "            string = '0'\n",
    "        return(string)\n",
    "\n",
    "    def __eq__(self,other):\n",
    "        if isinstance(other, Number):\n",
    "            other = Quaternion(other)\n",
    "        \n",
    "        if isinstance(other, Quaternion):\n",
    "            return self.coefficients == other.coefficients\n",
    "        else:\n",
    "            raise QuaternionDomainError(\"Can't say if Quanternion is equal to \" + str(type(other)))\n",
    "\n",
    "    def __add__(self, other):\n",
    "        if isinstance(other, Number):\n",
    "            other = Quaternion(other)\n",
    "        \n",
    "        sc = self.coefficients.copy()\n",
    "        oc = other.coefficients.copy()\n",
    "        mas = [0, 0, 0, 0]\n",
    "\n",
    "        for i in range(4):\n",
    "            mas[i] = sc[i] + oc[i]\n",
    "        return Quaternion(mas)\n",
    " \n",
    "    def __radd__(self, other):\n",
    "        return self.__add__(other)\n",
    "\n",
    "    def __neg__(self):\n",
    "            return Quaternion([-c for c in self.coefficients])\n",
    "\n",
    "\n",
    "\n",
    "    def __sub__(self, other):\n",
    "        if isinstance(other, Number):\n",
    "            other = Quaternion(other)\n",
    "\n",
    "        return self.__add__(other.__neg__())\n",
    "\n",
    "    \n",
    "    def __rsub__(self, other):\n",
    "        return self.__neg__().__add__(other)\n",
    "\n",
    " \n",
    "    def __mul__(self, other): #умножение кватернионов не коммутативно\n",
    "        if isinstance(other, Number):\n",
    "            other = Quaternion(other)\n",
    "        \n",
    "        sc = self.coefficients.copy()\n",
    "        oc = other.coefficients.copy()\n",
    "        mas = [0, 0, 0, 0]\n",
    "        \n",
    "        for i in range (4):\n",
    "            mas[i] = sc[i]*oc[i]\n",
    "\n",
    "        return Quaternion(mas)\n",
    "\n",
    "    def norm(self):\n",
    "        sum = 0\n",
    "        for i in range(4):\n",
    "            sum += self.coefficients[i]**2\n",
    "        return(sum)\n",
    "\n",
    "    def magnitude(self):\n",
    "        sum = 0\n",
    "        for i in range(4):\n",
    "            sum += self.coefficients[i]**2\n",
    "        return(sum**0.5)\n"
   ]
  },
  {
   "cell_type": "markdown",
   "metadata": {},
   "source": [
    "Кватернион по коэффициентам, вывод"
   ]
  },
  {
   "cell_type": "code",
   "execution_count": null,
   "metadata": {},
   "outputs": [],
   "source": [
    "\n",
    "print(Quaternion(10))\n",
    "\n",
    "print(Quaternion([0, 0, 0, 0]))\n",
    "\n",
    "print(Quaternion([1, 0, -100, 10000]))\n"
   ]
  },
  {
   "cell_type": "markdown",
   "metadata": {},
   "source": [
    "Сравнение кватернионов"
   ]
  },
  {
   "cell_type": "code",
   "execution_count": null,
   "metadata": {},
   "outputs": [],
   "source": [
    "print(Quaternion(1) == Quaternion([1, 0, 0, 0]))\n",
    "print(Quaternion(1) == Quaternion([1, 1, 0, 0]))"
   ]
  },
  {
   "cell_type": "markdown",
   "metadata": {},
   "source": [
    "Сложение и вычитание"
   ]
  },
  {
   "cell_type": "code",
   "execution_count": null,
   "metadata": {},
   "outputs": [],
   "source": [
    "print(Quaternion(1) + Quaternion(2))\n",
    "print(Quaternion(1) + Quaternion([0, 1, 0, 0]))\n",
    "print(Quaternion(1) - Quaternion([0, 1, 0, 0]))\n",
    "print(Quaternion([0, 1, 0, 0]) - Quaternion(1))"
   ]
  },
  {
   "cell_type": "markdown",
   "metadata": {},
   "source": [
    "Умножение"
   ]
  },
  {
   "cell_type": "code",
   "execution_count": null,
   "metadata": {},
   "outputs": [],
   "source": [
    "print(Quaternion(1) * Quaternion([0, 1, 0, 0]))\n",
    "print(Quaternion([0, 1, 0, 0]) * Quaternion(1))\n",
    "print(Quaternion([0, 1, 0, 0]) * Quaternion([1,2,3,4]))\n"
   ]
  },
  {
   "cell_type": "markdown",
   "metadata": {},
   "source": [
    "Модуль"
   ]
  },
  {
   "cell_type": "code",
   "execution_count": 13,
   "metadata": {},
   "outputs": [
    {
     "ename": "NameError",
     "evalue": "name 'magnitude' is not defined",
     "output_type": "error",
     "traceback": [
      "\u001b[1;31m---------------------------------------------------------------------------\u001b[0m",
      "\u001b[1;31mNameError\u001b[0m                                 Traceback (most recent call last)",
      "\u001b[1;32m~\\AppData\\Local\\Temp/ipykernel_12864/2171503473.py\u001b[0m in \u001b[0;36m<module>\u001b[1;34m\u001b[0m\n\u001b[1;32m----> 1\u001b[1;33m \u001b[0mprint\u001b[0m\u001b[1;33m(\u001b[0m\u001b[0mmagnitude\u001b[0m\u001b[1;33m(\u001b[0m\u001b[0mQuaternion\u001b[0m\u001b[1;33m(\u001b[0m\u001b[1;36m1\u001b[0m\u001b[1;33m)\u001b[0m\u001b[1;33m)\u001b[0m\u001b[1;33m)\u001b[0m\u001b[1;33m\u001b[0m\u001b[1;33m\u001b[0m\u001b[0m\n\u001b[0m\u001b[0;32m      2\u001b[0m \u001b[0mprint\u001b[0m\u001b[1;33m(\u001b[0m\u001b[0mmagnitude\u001b[0m\u001b[1;33m(\u001b[0m\u001b[0mQuaternion\u001b[0m\u001b[1;33m(\u001b[0m\u001b[1;33m[\u001b[0m\u001b[1;36m1\u001b[0m\u001b[1;33m,\u001b[0m\u001b[1;36m1\u001b[0m\u001b[1;33m]\u001b[0m\u001b[1;33m)\u001b[0m\u001b[1;33m)\u001b[0m\u001b[1;33m)\u001b[0m\u001b[1;33m\u001b[0m\u001b[1;33m\u001b[0m\u001b[0m\n\u001b[0;32m      3\u001b[0m \u001b[0mprint\u001b[0m\u001b[1;33m(\u001b[0m\u001b[0mmagnitude\u001b[0m\u001b[1;33m(\u001b[0m\u001b[0mQuaternion\u001b[0m\u001b[1;33m(\u001b[0m\u001b[1;33m[\u001b[0m\u001b[1;36m1\u001b[0m\u001b[1;33m,\u001b[0m\u001b[1;36m2\u001b[0m\u001b[1;33m,\u001b[0m\u001b[1;36m3\u001b[0m\u001b[1;33m,\u001b[0m\u001b[1;36m4\u001b[0m\u001b[1;33m]\u001b[0m\u001b[1;33m)\u001b[0m\u001b[1;33m)\u001b[0m\u001b[1;33m)\u001b[0m\u001b[1;33m\u001b[0m\u001b[1;33m\u001b[0m\u001b[0m\n",
      "\u001b[1;31mNameError\u001b[0m: name 'magnitude' is not defined"
     ]
    }
   ],
   "source": [
    "print(magnitude(Quaternion(1)))\n",
    "print(magnitude(Quaternion([1,1])))\n",
    "print(magnitude(Quaternion([1,2,3,4])))"
   ]
  }
 ],
 "metadata": {
  "interpreter": {
   "hash": "9160f4aaef7eda0c1ec87855d558f66a5a47502f4f4fdf43acb9701792176448"
  },
  "kernelspec": {
   "display_name": "Python 3.9.7 64-bit",
   "language": "python",
   "name": "python3"
  },
  "language_info": {
   "codemirror_mode": {
    "name": "ipython",
    "version": 3
   },
   "file_extension": ".py",
   "mimetype": "text/x-python",
   "name": "python",
   "nbconvert_exporter": "python",
   "pygments_lexer": "ipython3",
   "version": "3.9.7"
  },
  "orig_nbformat": 4
 },
 "nbformat": 4,
 "nbformat_minor": 2
}
